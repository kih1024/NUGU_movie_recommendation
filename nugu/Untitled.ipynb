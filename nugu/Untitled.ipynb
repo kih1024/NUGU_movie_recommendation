{
 "cells": [
  {
   "cell_type": "code",
   "execution_count": null,
   "metadata": {},
   "outputs": [],
   "source": [
    "import pickle\n",
    "with open('dict_mid_mname.bin', 'rb') as f:\n",
    "    ID_dict = pickle.load(f)\n",
    "\n",
    "with open('persona.txt', 'r', encoding='utf-8') as f:\n",
    "    entire_movies = []\n",
    "    while f.readable():\n",
    "        read = f.readline()\n",
    "        if read in ID_dict.values():\n",
    "            print(read)\n",
    "        "
   ]
  }
 ],
 "metadata": {
  "kernelspec": {
   "display_name": "tensorflowgpu",
   "language": "python",
   "name": "tensorflowgpu"
  },
  "language_info": {
   "codemirror_mode": {
    "name": "ipython",
    "version": 3
   },
   "file_extension": ".py",
   "mimetype": "text/x-python",
   "name": "python",
   "nbconvert_exporter": "python",
   "pygments_lexer": "ipython3",
   "version": "3.6.9"
  }
 },
 "nbformat": 4,
 "nbformat_minor": 2
}
